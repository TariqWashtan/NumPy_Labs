{
 "cells": [
  {
   "cell_type": "markdown",
   "id": "5ffb93ae",
   "metadata": {},
   "source": [
    "# Q1: Import numpy library"
   ]
  },
  {
   "cell_type": "code",
   "execution_count": 2,
   "id": "936d4703",
   "metadata": {},
   "outputs": [],
   "source": [
    "# write your code here ^_^\n",
    "\n",
    "import numpy                       # Import the numpy module\n",
    "import numpy as np                  # Import the numpy module and create an alias 'np' for it\n",
    "from numpy import array, reshape   # Import the 'array' and 'reshape' functions from numpy\n",
    "    \n",
    "\n"
   ]
  },
  {
   "cell_type": "markdown",
   "id": "b6991a89",
   "metadata": {},
   "source": [
    "# Q2: Generate a sequence of 15 floats using linspace() function"
   ]
  },
  {
   "cell_type": "code",
   "execution_count": 19,
   "id": "43bf04a5",
   "metadata": {},
   "outputs": [
    {
     "name": "stdout",
     "output_type": "stream",
     "text": [
      "[10.         10.35714286 10.71428571 11.07142857 11.42857143 11.78571429\n",
      " 12.14285714 12.5        12.85714286 13.21428571 13.57142857 13.92857143\n",
      " 14.28571429 14.64285714 15.        ]\n"
     ]
    }
   ],
   "source": [
    "# write your code here ^_^\n",
    "\n",
    "sequence = np.linspace(10, 20, num = 15)        # the linspace function expected 3 params, 10 to 20 is the range of values \"start and stop\" and the 15 is the length \"num\" of the array\n",
    "\n",
    "print(sequence)"
   ]
  },
  {
   "cell_type": "markdown",
   "id": "7144bba8",
   "metadata": {},
   "source": [
    "# Q3: Create a 3-D array in shape (2, 2, 3) containing the four arrays given below \n",
    "Note : the array's name is up to you.\n",
    "\n",
    "|      |       |          |         |\n",
    "|------| ----- | -------- | ------- |\n",
    "|arr1 | 1.1    | 2.1       | 3.1        |\n",
    "|arr2 | 4.1    | 5.1       | 6.1        |\n",
    "|arr3 | 7.1    | 8.1       | 9.1        |\n",
    "|arr4 | 10.1   | 11.1      | 12.1       |"
   ]
  },
  {
   "cell_type": "code",
   "execution_count": 15,
   "id": "c1c3f9dc",
   "metadata": {},
   "outputs": [
    {
     "name": "stdout",
     "output_type": "stream",
     "text": [
      "[[[ 1.1  2.1  3.1]\n",
      "  [ 4.1  5.1  6.1]]\n",
      "\n",
      " [[ 7.1  8.1  9.1]\n",
      "  [10.1 11.1 12.1]]]\n"
     ]
    }
   ],
   "source": [
    "# write your code here ^_^\n",
    "\n",
    "import numpy as np\n",
    "\n",
    "arr1 = np.array([1.1, 2.1, 3.1])                # Create the arrays\n",
    "arr2 = np.array([4.1, 5.1, 6.1])\n",
    "arr3 = np.array([7.1, 8.1, 9.1])\n",
    "arr4 = np.array([10.1, 11.1, 12.1])\n",
    "\n",
    "newArray = np.array([arr1, arr2, arr3, arr4])     # Create the 3-D array\n",
    "\n",
    "newArray = newArray.reshape(2, 2, 3)               # Reshape the 3-D array to the desired shape (2, 2, 3)\n",
    "\n",
    "print(newArray)\n"
   ]
  },
  {
   "cell_type": "markdown",
   "id": "807acbf6",
   "metadata": {},
   "source": [
    "# Q4: Print the following:\n",
    "Note: use the same array from Q3.\n",
    "- Array's type.\n",
    "- Array's elements datatype.\n",
    "- Array's shape.\n",
    "- Array's size.\n",
    "- Array's dimention."
   ]
  },
  {
   "cell_type": "code",
   "execution_count": 23,
   "id": "6e90d6a0",
   "metadata": {},
   "outputs": [
    {
     "name": "stdout",
     "output_type": "stream",
     "text": [
      "Array type is: <class 'numpy.ndarray'>\n",
      "Array elements datatype are: float64\n",
      "Array shape is: (2, 2, 3)\n",
      "Array size is: 12\n",
      "Array dimension is : 3\n"
     ]
    }
   ],
   "source": [
    "# write your code here ^_^\n",
    "\n",
    "\n",
    "print(\"Array type is:\", type(newArray))      # Print the array type\n",
    "\n",
    "print(\"Array elements datatype are:\", newArray.dtype)     # Print the array elements datatype\n",
    "\n",
    "print(\"Array shape is:\", newArray.shape)         # Print the array shape\n",
    "\n",
    "print(\"Array size is:\", newArray.size)           # Print the array size\n",
    "\n",
    "print(\"Array dimension is :\", newArray.ndim)      # Print the array dimensions"
   ]
  },
  {
   "cell_type": "markdown",
   "id": "db4958b5",
   "metadata": {},
   "source": [
    "# Q5:  Change the array dimention from 3-D to 4-D\n",
    "Note: use the same array from Q3.\n",
    "- Create a new array to hold the changes. \n",
    "- Print the new array's dimention and shape."
   ]
  },
  {
   "cell_type": "code",
   "execution_count": 33,
   "id": "e9f5c88c",
   "metadata": {},
   "outputs": [
    {
     "name": "stdout",
     "output_type": "stream",
     "text": [
      "New array's dimension: 4\n",
      "New array's shape: (1, 2, 2, 3)\n",
      "The 4 Dimenations araay : \n",
      " [[[[ 1.1  2.1  3.1]\n",
      "   [ 4.1  5.1  6.1]]\n",
      "\n",
      "  [[ 7.1  8.1  9.1]\n",
      "   [10.1 11.1 12.1]]]]\n"
     ]
    }
   ],
   "source": [
    "# write your code here ^_^\n",
    "\n",
    "array_4Dimentions = newArray.reshape(1, 2, 2, 3)            # Reshape the array to 4-D\n",
    "\n",
    "print(\"New array's dimension:\", array_4Dimentions.ndim)     # Print the new array's dimension and shape\n",
    "print(\"New array's shape:\", array_4Dimentions.shape)\n",
    "print(\"The 4 Dimenations araay : \\n\", array_4Dimentions)    # we can see there is an extra square bracket which is represent the new dimension"
   ]
  },
  {
   "cell_type": "markdown",
   "id": "454f2504",
   "metadata": {},
   "source": [
    "# Q6: Change the array's elements datatype to integer  \n",
    "Note: use the same array from Q5.\n",
    "\n",
    "- Create a new array to hold the changes. \n",
    "- Print the new array."
   ]
  },
  {
   "cell_type": "code",
   "execution_count": 38,
   "id": "8135b045",
   "metadata": {},
   "outputs": [
    {
     "name": "stdout",
     "output_type": "stream",
     "text": [
      "[[[[ 1  2  3]\n",
      "   [ 4  5  6]]\n",
      "\n",
      "  [[ 7  8  9]\n",
      "   [10 11 12]]]]\n"
     ]
    }
   ],
   "source": [
    "# write your code here ^_^\n",
    "\n",
    "array_int = array_4Dimentions.astype(int)       # Change the array elements datatype to integer \n",
    "\n",
    "print(array_int)                       # Print the new array"
   ]
  },
  {
   "cell_type": "markdown",
   "id": "ab90badc",
   "metadata": {},
   "source": [
    "# Q7: Print all array's elements using for loop\n",
    "Note: use the same array from Q6.\n",
    "\n",
    "Hint: use nditer()"
   ]
  },
  {
   "cell_type": "code",
   "execution_count": 43,
   "id": "a0d58d15",
   "metadata": {},
   "outputs": [
    {
     "name": "stdout",
     "output_type": "stream",
     "text": [
      "1 2 3 4 5 6 7 8 9 10 11 12 "
     ]
    }
   ],
   "source": [
    "# write your code here ^_^\n",
    "\n",
    "for element in np.nditer(array_int):\n",
    "    print(element, end =' ')"
   ]
  },
  {
   "cell_type": "markdown",
   "id": "afa8b5f3",
   "metadata": {},
   "source": [
    "# Q8:  Print number 8 using array slicing\n",
    "Note: use the same array from Q6."
   ]
  },
  {
   "cell_type": "code",
   "execution_count": 64,
   "id": "6e12e2d7",
   "metadata": {},
   "outputs": [
    {
     "name": "stdout",
     "output_type": "stream",
     "text": [
      "By using only the first index:\n",
      " [[[ 1  2  3]\n",
      "  [ 4  5  6]]\n",
      "\n",
      " [[ 7  8  9]\n",
      "  [10 11 12]]] \n",
      "\n",
      "By using the two indexes:\n",
      " [[ 7  8  9]\n",
      " [10 11 12]] \n",
      "\n",
      "By using the three indexes:\n",
      " [7 8 9] \n",
      "\n",
      "By using the four indexes:\n",
      " 8\n"
     ]
    }
   ],
   "source": [
    "# write your code here ^_^\n",
    "\n",
    "# we can access any element in the array by following this technique:\n",
    "\n",
    "print(\"By using only the first index:\\n\", array_int[0], \"\\n\")\n",
    "print(\"By using the two indexes:\\n\", array_int[0, 1], \"\\n\")\n",
    "print(\"By using the three indexes:\\n\", array_int[0, 1, 0], \"\\n\")\n",
    "print(\"By using the four indexes:\\n\", array_int[0, 1, 0, 1])        # by following this approach we will reach any element that we want\n"
   ]
  },
  {
   "cell_type": "markdown",
   "id": "e2e71895",
   "metadata": {},
   "source": [
    "# Q9: Print number 5 and number 6 using array slicing\n",
    "Note: use the same array from Q6."
   ]
  },
  {
   "cell_type": "code",
   "execution_count": 71,
   "id": "c3218bcb",
   "metadata": {},
   "outputs": [
    {
     "name": "stdout",
     "output_type": "stream",
     "text": [
      "Accessing the number 5 :\n",
      " 5\n",
      "Accessing the number 6 :\n",
      " 6\n"
     ]
    }
   ],
   "source": [
    "# write your code here ^_^\n",
    "\n",
    "print(\"Accessing the number 5 :\\n\", array_int[0, 0, 1, 1]) \n",
    "print(\"Accessing the number 6 :\\n\", array_int[0, 0, 1, 2]) \n"
   ]
  },
  {
   "cell_type": "markdown",
   "id": "e5d63cd3",
   "metadata": {},
   "source": [
    "# Q10: Search for number 8 using where()\n",
    "Note: use the same array from Q6.\n",
    "\n",
    "Note: where() is only used with small data.\n",
    "\n",
    "*the output represents the path of the index that leads to number 8*"
   ]
  },
  {
   "cell_type": "code",
   "execution_count": 75,
   "id": "ddaf0146",
   "metadata": {},
   "outputs": [
    {
     "name": "stdout",
     "output_type": "stream",
     "text": [
      "index of number 8: (array([0], dtype=int64), array([1], dtype=int64), array([0], dtype=int64), array([1], dtype=int64))\n"
     ]
    }
   ],
   "source": [
    "# write your code here ^_^\n",
    "\n",
    "index_of_8 = np.where(array_int == 8)\n",
    "\n",
    "# Print the indices\n",
    "print(\"index of number 8:\", index_of_8)"
   ]
  },
  {
   "cell_type": "markdown",
   "id": "c89f41ad",
   "metadata": {},
   "source": [
    "# Q11: Reshape the array as the following\n",
    "\n",
    "    array([[[ 1, 2],\n",
    "            [ 3,  4],\n",
    "            [ 5,  6]],\n",
    "\n",
    "           [[ 7,  8],\n",
    "            [ 9, 10],\n",
    "            [11, 12]]])\n",
    "            \n",
    " Note: use the same array from Q6."
   ]
  },
  {
   "cell_type": "code",
   "execution_count": 76,
   "id": "d9b632bd",
   "metadata": {},
   "outputs": [
    {
     "name": "stdout",
     "output_type": "stream",
     "text": [
      "[[[ 1  2]\n",
      "  [ 3  4]\n",
      "  [ 5  6]]\n",
      "\n",
      " [[ 7  8]\n",
      "  [ 9 10]\n",
      "  [11 12]]]\n"
     ]
    }
   ],
   "source": [
    "# write your code here ^_^\n",
    "\n",
    "reshaped_array = array_int.reshape(2, 3, 2)\n",
    "\n",
    "print(reshaped_array)"
   ]
  },
  {
   "cell_type": "markdown",
   "id": "539c16b1",
   "metadata": {},
   "source": [
    "# Q12: Join the given arrays below \n",
    "    arr1 = np.array([['A', 'B'], ['E', 'F']])\n",
    "    arr2 = np.array([['C', 'D'], ['G', 'H']])\n",
    "## Q12.1: Join the arrays without specifying the axis "
   ]
  },
  {
   "cell_type": "code",
   "execution_count": 77,
   "id": "d6acdeaf",
   "metadata": {},
   "outputs": [
    {
     "name": "stdout",
     "output_type": "stream",
     "text": [
      "[['A' 'B']\n",
      " ['E' 'F']\n",
      " ['C' 'D']\n",
      " ['G' 'H']]\n"
     ]
    }
   ],
   "source": [
    "# write your code here ^_^\n",
    "\n",
    "import numpy as np\n",
    "\n",
    "arr1 = np.array([['A', 'B'], ['E', 'F']])\n",
    "arr2 = np.array([['C', 'D'], ['G', 'H']])\n",
    "\n",
    "joined_array = np.concatenate((arr1, arr2))\n",
    "\n",
    "print(joined_array)\n"
   ]
  },
  {
   "cell_type": "markdown",
   "id": "1a37dd47",
   "metadata": {},
   "source": [
    "# Q12.2: Join the arrays along rows with axis = 1 "
   ]
  },
  {
   "cell_type": "code",
   "execution_count": 78,
   "id": "b849658c",
   "metadata": {},
   "outputs": [
    {
     "name": "stdout",
     "output_type": "stream",
     "text": [
      "[['A' 'B' 'C' 'D']\n",
      " ['E' 'F' 'G' 'H']]\n"
     ]
    }
   ],
   "source": [
    "# write your code here ^_^\n",
    "\n",
    "joined_array = np.concatenate((arr1, arr2), axis=1)\n",
    "\n",
    "print(joined_array)"
   ]
  },
  {
   "cell_type": "markdown",
   "id": "7296eecf",
   "metadata": {},
   "source": [
    "# Q13: Split the array into two arrays with axis = 1, each array should contain four arrays. \n",
    "Note: use the same array from Q12.1"
   ]
  },
  {
   "cell_type": "code",
   "execution_count": 88,
   "id": "7f7f5e49",
   "metadata": {},
   "outputs": [
    {
     "name": "stdout",
     "output_type": "stream",
     "text": [
      "The first array : \n",
      " [['A' 'B']\n",
      " ['E' 'F']]\n",
      "The second array : \n",
      " [['C' 'D']\n",
      " ['G' 'H']]\n"
     ]
    }
   ],
   "source": [
    "# write your code here ^_^\n",
    "\n",
    "split_arrays = np.split(joined_array, 2, axis=1)\n",
    "\n",
    "print(\"The first array : \\n\", split_arrays[0])\n",
    "print(\"The second array : \\n\", split_arrays[1])\n",
    "\n",
    "\n"
   ]
  }
 ],
 "metadata": {
  "kernelspec": {
   "display_name": "Python 3 (ipykernel)",
   "language": "python",
   "name": "python3"
  },
  "language_info": {
   "codemirror_mode": {
    "name": "ipython",
    "version": 3
   },
   "file_extension": ".py",
   "mimetype": "text/x-python",
   "name": "python",
   "nbconvert_exporter": "python",
   "pygments_lexer": "ipython3",
   "version": "3.10.5"
  }
 },
 "nbformat": 4,
 "nbformat_minor": 5
}
